{
 "cells": [
  {
   "cell_type": "code",
   "execution_count": 1,
   "metadata": {
    "collapsed": true
   },
   "outputs": [],
   "source": [
    "import tensorflow as tf\n",
    "import numpy as np"
   ]
  },
  {
   "cell_type": "code",
   "execution_count": 16,
   "metadata": {
    "collapsed": true
   },
   "outputs": [],
   "source": [
    "labels = 10\n",
    "labelEmbedDimension=5\n",
    "num_filters=3\n",
    "m=15\n",
    "window_width=2\n",
    "labelsPlaceholder = tf.placeholder(tf.float32,shape=[labels,labels])\n",
    "target = tf.placeholder(tf.float32,shape=[labels])"
   ]
  },
  {
   "cell_type": "code",
   "execution_count": 17,
   "metadata": {
    "collapsed": true
   },
   "outputs": [],
   "source": [
    "def new_weights(shape):\n",
    "    return tf.Variable(tf.truncated_normal(shape, stddev=0.05))\n",
    "\n",
    "def new_biases(length):\n",
    "    return tf.Variable(tf.constant(0.05, shape=[length]))"
   ]
  },
  {
   "cell_type": "code",
   "execution_count": 18,
   "metadata": {
    "collapsed": true
   },
   "outputs": [],
   "source": [
    "def getLabelEmbeddings(labelsPlaceholder,labelsCount,labelEmdeddingLength):\n",
    "    embeddings = tf.Variable(tf.random_uniform([labelsCount, labelEmdeddingLength], -1.0, 1.0))\n",
    "    rel = tf.matmul(labelsPlaceholder,embeddings)\n",
    "    return rel,embeddings\n",
    "relMatrix,embedMatrix=getLabelEmbeddings(labelsPlaceholder,labels,labelEmbedDimension)"
   ]
  },
  {
   "cell_type": "code",
   "execution_count": 19,
   "metadata": {
    "collapsed": true
   },
   "outputs": [],
   "source": [
    "def convLayer(sentenceMatrix,relationMatrix,window_width,num_filters,shape):\n",
    "    weights = new_weights(shape=shape)\n",
    "    biases = new_biases(length=num_filters)    \n",
    "    inputMatrix = tf.matmul(sentenceMatrix,tf.transpose(relationMatrix))\n",
    "    inputMatrix = tf.reshape(inputMatrix,shape=[1,m,labels,1])\n",
    "    convOutput = tf.nn.conv2d(input=inputMatrix,filter=weights,strides=[1,1,1,1],padding='SAME')\n",
    "    convOutput = tf.nn.tanh(convOutput)    \n",
    "    return convOutput\n",
    "\n",
    "def fullyConnectedLayer(bagRepresenation,num_inputs,num_outputs):\n",
    "    weights = new_weights(shape=[num_inputs, num_outputs])\n",
    "    biases = new_biases(length=num_outputs)\n",
    "    bagRepresenation=tf.contrib.layers.flatten(bagRepresenation)\n",
    "    layer = tf.nn.sigmoid(tf.matmul(bagRepresenation, weights) + biases)\n",
    "    return layer,weights\n"
   ]
  },
  {
   "cell_type": "code",
   "execution_count": 20,
   "metadata": {
    "collapsed": true
   },
   "outputs": [],
   "source": [
    "sentenceMatrix = np.random.rand(m,labelEmbedDimension).astype(np.float32)\n",
    "shape = [1,4,1,num_filters]\n",
    "inputSize = labels*m*num_filters"
   ]
  },
  {
   "cell_type": "code",
   "execution_count": 21,
   "metadata": {
    "collapsed": true
   },
   "outputs": [],
   "source": [
    "convOutput = convLayer(sentenceMatrix,relMatrix,window_width,num_filters,shape)\n",
    "prediction,weights_fc=fullyConnectedLayer(convOutput,inputSize,labels)\n",
    "cross_entropy = -tf.reduce_sum(((target*tf.log(prediction + 1e-9)) + ((1-target) * tf.log(1 - prediction + 1e-9)) )  , name='xentropy' ) \n",
    "cost = tf.reduce_mean(cross_entropy)\n",
    "optimizer = tf.train.AdamOptimizer(learning_rate=1e-4).minimize(cost)"
   ]
  },
  {
   "cell_type": "code",
   "execution_count": null,
   "metadata": {
    "collapsed": true
   },
   "outputs": [],
   "source": []
  },
  {
   "cell_type": "code",
   "execution_count": 22,
   "metadata": {
    "collapsed": false
   },
   "outputs": [],
   "source": [
    "session = tf.Session()\n",
    "session.run(tf.global_variables_initializer())\n",
    "feed_dict_input={}\n",
    "entityLabel = np.array([[0]*labels]*labels)\n",
    "entityLabel[0][0]=1\n",
    "entityLabel[2][2]=1\n",
    "# print(entityLabel)\n",
    "feed_dict_input[labelsPlaceholder]=entityLabel\n",
    "\n",
    "out=session.run(prediction,feed_dict=feed_dict_input)"
   ]
  },
  {
   "cell_type": "code",
   "execution_count": 15,
   "metadata": {
    "collapsed": false
   },
   "outputs": [
    {
     "name": "stdout",
     "output_type": "stream",
     "text": [
      "(10, 10)\n"
     ]
    }
   ],
   "source": [
    "print(entityLabel.shape)"
   ]
  },
  {
   "cell_type": "code",
   "execution_count": 24,
   "metadata": {
    "collapsed": false
   },
   "outputs": [
    {
     "data": {
      "text/plain": [
       "(1, 10)"
      ]
     },
     "execution_count": 24,
     "metadata": {},
     "output_type": "execute_result"
    }
   ],
   "source": []
  },
  {
   "cell_type": "code",
   "execution_count": null,
   "metadata": {
    "collapsed": true
   },
   "outputs": [],
   "source": []
  }
 ],
 "metadata": {
  "kernelspec": {
   "display_name": "Python 3",
   "language": "python",
   "name": "python3"
  },
  "language_info": {
   "codemirror_mode": {
    "name": "ipython",
    "version": 3
   },
   "file_extension": ".py",
   "mimetype": "text/x-python",
   "name": "python",
   "nbconvert_exporter": "python",
   "pygments_lexer": "ipython3",
   "version": "3.4.3"
  }
 },
 "nbformat": 4,
 "nbformat_minor": 2
}
